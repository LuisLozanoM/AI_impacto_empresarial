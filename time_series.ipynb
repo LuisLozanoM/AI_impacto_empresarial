{
 "cells": [
  {
   "cell_type": "code",
   "execution_count": null,
   "id": "5ae5eb01",
   "metadata": {
    "vscode": {
     "languageId": "plaintext"
    }
   },
   "outputs": [],
   "source": [
    "import yfinance as yf\n",
    "import numpy as np\n",
    "import pandas as pd\n",
    "import datetime\n",
    "import statsmodels.api as sm\n",
    "from statsmodels.tsa.stattools import adfuller\n",
    "from statsmodels.tsa.seasonal import seasonal_decompose"
   ]
  },
  {
   "cell_type": "code",
   "execution_count": null,
   "id": "59c2e5ae",
   "metadata": {
    "vscode": {
     "languageId": "plaintext"
    }
   },
   "outputs": [],
   "source": [
    "ticker = '^GSPC' #S&P 500\n",
    "start = datetime.datetime(2015, 1, 1)\n",
    "end = datetime.datetime(2021, 1, 1)\n",
    "SP_prices = yf.download(ticker, start=start, end=end, intervals='1mo').Close"
   ]
  },
  {
   "cell_type": "code",
   "execution_count": null,
   "id": "4c62996c",
   "metadata": {
    "vscode": {
     "languageId": "plaintext"
    }
   },
   "outputs": [],
   "source": [
    "seasonal_decompose(SP_prices, period=12).plot()"
   ]
  }
 ],
 "metadata": {
  "language_info": {
   "name": "python"
  }
 },
 "nbformat": 4,
 "nbformat_minor": 5
}
