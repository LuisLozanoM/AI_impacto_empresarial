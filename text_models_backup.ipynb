{
 "cells": [
  {
   "cell_type": "code",
<<<<<<< HEAD
   "execution_count": 2,
   "id": "cd846e22",
   "metadata": {},
   "outputs": [
    {
     "name": "stdout",
     "output_type": "stream",
     "text": [
      "[2132, 572, 264, 6319, 323, 13458, 88]\n"
     ]
    }
   ],
=======
   "execution_count": null,
   "metadata": {},
   "outputs": [],
>>>>>>> 35d402604c76f7374772f126af27585bb4c53082
   "source": [
    "from transformers import AutoTokenizer\n",
    "\n",
    "prompt = \"It was a dark and stormy\"\n",
    "tokenizer = AutoTokenizer.from_pretrained(\"Qwen/Qwen2-0.5B\")\n",
    "input_ids = tokenizer(prompt).input_ids\n",
    "print(input_ids)"
   ]
  },
  {
   "cell_type": "code",
<<<<<<< HEAD
   "execution_count": 18,
   "id": "fec7771d",
   "metadata": {},
   "outputs": [
    {
     "name": "stdout",
     "output_type": "stream",
     "text": [
      "tensor([ 2132,   572,   264,  6319,   323, 13458,    88]) \t: It was a dark and stormy\n"
     ]
    }
   ],
=======
   "execution_count": null,
   "metadata": {},
   "outputs": [],
>>>>>>> 35d402604c76f7374772f126af27585bb4c53082
   "source": [
    "for t in input_ids:\n",
    "    print(t, \"\\t:\", tokenizer.decode(t))"
   ]
  },
  {
   "cell_type": "code",
<<<<<<< HEAD
   "execution_count": 19,
   "id": "c66c41d7",
   "metadata": {},
   "outputs": [
    {
     "data": {
      "text/plain": [
       "[33197]"
      ]
     },
     "execution_count": 19,
     "metadata": {},
     "output_type": "execute_result"
    }
   ],
=======
   "execution_count": null,
   "metadata": {},
   "outputs": [],
>>>>>>> 35d402604c76f7374772f126af27585bb4c53082
   "source": [
    "tokenizer(\" Luis\").input_ids"
   ]
  },
  {
   "cell_type": "code",
<<<<<<< HEAD
   "execution_count": 20,
   "id": "840c1538",
   "metadata": {},
   "outputs": [
    {
     "data": {
      "text/plain": [
       "' Luis'"
      ]
     },
     "execution_count": 20,
     "metadata": {},
     "output_type": "execute_result"
    }
   ],
=======
   "execution_count": null,
   "metadata": {},
   "outputs": [],
>>>>>>> 35d402604c76f7374772f126af27585bb4c53082
   "source": [
    "tokenizer.decode(33197)"
   ]
  },
  {
   "cell_type": "code",
<<<<<<< HEAD
   "execution_count": 21,
   "id": "c63a14d4",
=======
   "execution_count": null,
>>>>>>> 35d402604c76f7374772f126af27585bb4c53082
   "metadata": {},
   "outputs": [],
   "source": [
    "from transformers import AutoModelForCausalLM\n",
    "\n",
    "model = AutoModelForCausalLM.from_pretrained(\"Qwen/Qwen2-0.5B\")"
   ]
  },
  {
   "cell_type": "code",
<<<<<<< HEAD
   "execution_count": 22,
   "id": "84f37a47",
   "metadata": {},
   "outputs": [
    {
     "data": {
      "text/plain": [
       "torch.Size([1, 7, 151936])"
      ]
     },
     "execution_count": 22,
     "metadata": {},
     "output_type": "execute_result"
    }
   ],
=======
   "execution_count": null,
   "metadata": {},
   "outputs": [],
>>>>>>> 35d402604c76f7374772f126af27585bb4c53082
   "source": [
    "input_ids = tokenizer(prompt, return_tensors=\"pt\").input_ids\n",
    "\n",
    "outputs = model(input_ids)\n",
    "outputs.logits.shape  # (batch_size, sequence_length, vocab_size)"
   ]
  },
  {
   "cell_type": "code",
<<<<<<< HEAD
   "execution_count": 23,
   "id": "d17a9de8",
   "metadata": {},
   "outputs": [
    {
     "data": {
      "text/plain": [
       "tensor(3729)"
      ]
     },
     "execution_count": 23,
     "metadata": {},
     "output_type": "execute_result"
    }
   ],
=======
   "execution_count": null,
   "metadata": {},
   "outputs": [],
>>>>>>> 35d402604c76f7374772f126af27585bb4c53082
   "source": [
    "final_logits = model(input_ids).logits[0, -1]\n",
    "final_logits.argmax()"
   ]
  },
  {
   "cell_type": "code",
<<<<<<< HEAD
   "execution_count": 24,
   "id": "23afb8a7",
   "metadata": {},
   "outputs": [
    {
     "data": {
      "text/plain": [
       "' night'"
      ]
     },
     "execution_count": 24,
     "metadata": {},
     "output_type": "execute_result"
    }
   ],
=======
   "execution_count": null,
   "metadata": {},
   "outputs": [],
>>>>>>> 35d402604c76f7374772f126af27585bb4c53082
   "source": [
    "tokenizer.decode(final_logits.argmax())"
   ]
  },
  {
   "cell_type": "code",
<<<<<<< HEAD
   "execution_count": 25,
   "id": "eeeb4150",
   "metadata": {},
   "outputs": [
    {
     "name": "stdout",
     "output_type": "stream",
     "text": [
      " night\n",
      " evening\n",
      " day\n",
      " morning\n",
      " winter\n",
      " afternoon\n",
      " Saturday\n",
      " Sunday\n",
      " Friday\n",
      " October\n"
     ]
    }
   ],
=======
   "execution_count": null,
   "metadata": {},
   "outputs": [],
>>>>>>> 35d402604c76f7374772f126af27585bb4c53082
   "source": [
    "import torch\n",
    "\n",
    "top10_logits = torch.topk(final_logits, 10)\n",
    "for index in top10_logits.indices:\n",
    "    print(tokenizer.decode(index))"
   ]
  },
  {
   "cell_type": "code",
<<<<<<< HEAD
   "execution_count": 26,
   "id": "ff8cc4af",
   "metadata": {},
   "outputs": [
    {
     "name": "stdout",
     "output_type": "stream",
     "text": [
      " night     88.71%\n",
      " evening   4.30%\n",
      " day       2.19%\n",
      " morning   0.49%\n",
      " winter    0.45%\n",
      " afternoon 0.27%\n",
      " Saturday  0.25%\n",
      " Sunday    0.19%\n",
      " Friday    0.17%\n",
      " October   0.16%\n"
     ]
    }
   ],
=======
   "execution_count": null,
   "metadata": {},
   "outputs": [],
>>>>>>> 35d402604c76f7374772f126af27585bb4c53082
   "source": [
    "top10 = torch.topk(final_logits.softmax(dim=0), 10)\n",
    "for value, index in zip(top10.values, top10.indices):\n",
    "    print(f\"{tokenizer.decode(index):<10} {value.item():.2%}\")"
   ]
  },
  {
   "cell_type": "code",
<<<<<<< HEAD
   "execution_count": 27,
   "id": "3d5d4a3f",
=======
   "execution_count": null,
>>>>>>> 35d402604c76f7374772f126af27585bb4c53082
   "metadata": {},
   "outputs": [],
   "source": [
    "from pprint import pprint"
   ]
  },
  {
   "cell_type": "code",
<<<<<<< HEAD
   "execution_count": 28,
   "id": "f1a4cfba",
   "metadata": {},
   "outputs": [
    {
     "name": "stderr",
     "output_type": "stream",
     "text": [
      "The attention mask and the pad token id were not set. As a consequence, you may observe unexpected behavior. Please pass your input's `attention_mask` to obtain reliable results.\n",
      "Setting `pad_token_id` to `eos_token_id`:151643 for open-end generation.\n"
     ]
    },
    {
     "name": "stdout",
     "output_type": "stream",
     "text": [
      "Input IDs tensor([ 2132,   572,   264,  6319,   323, 13458,    88])\n",
      "Output IDs tensor([[ 2132,   572,   264,  6319,   323, 13458,    88,  3729,    13,   576,\n",
      "         12884,   572,  6319,   323,   279,  9956,   572,  1246,  2718,    13,\n",
      "           576, 11174,   572, 50413,  1495,   323,   279]])\n",
      "('Generated text: It was a dark and stormy night. The sky was dark and the '\n",
      " 'wind was howling. The rain was pouring down and the')\n"
     ]
    }
   ],
=======
   "execution_count": null,
   "metadata": {},
   "outputs": [],
>>>>>>> 35d402604c76f7374772f126af27585bb4c53082
   "source": [
    "output_ids = model.generate(input_ids, max_new_tokens=20)\n",
    "decoded_text = tokenizer.decode(output_ids[0])\n",
    "\n",
    "print(\"Input IDs\", input_ids[0])\n",
    "print(\"Output IDs\", output_ids)\n",
    "pprint(f\"Generated text: {decoded_text}\")"
   ]
  },
  {
   "cell_type": "code",
<<<<<<< HEAD
   "execution_count": 29,
   "id": "35e332d0",
   "metadata": {},
   "outputs": [
    {
     "name": "stderr",
     "output_type": "stream",
     "text": [
      "The attention mask and the pad token id were not set. As a consequence, you may observe unexpected behavior. Please pass your input's `attention_mask` to obtain reliable results.\n",
      "Setting `pad_token_id` to `eos_token_id`:151643 for open-end generation.\n"
     ]
    },
    {
     "name": "stdout",
     "output_type": "stream",
     "text": [
      "('It was a dark and stormy night. The wind was howling, and the rain was '\n",
      " 'pouring down. The sky was dark and gloomy, and the air was filled with the')\n"
     ]
    }
   ],
=======
   "execution_count": null,
   "metadata": {},
   "outputs": [],
>>>>>>> 35d402604c76f7374772f126af27585bb4c53082
   "source": [
    "beam_output = model.generate(\n",
    "    input_ids,\n",
    "    num_beams=5,\n",
    "    max_new_tokens=30,\n",
    ")\n",
    "\n",
    "pprint(tokenizer.decode(beam_output[0]))"
   ]
  },
  {
   "cell_type": "code",
<<<<<<< HEAD
   "execution_count": 30,
   "id": "9400d875",
   "metadata": {},
   "outputs": [
    {
     "name": "stderr",
     "output_type": "stream",
     "text": [
      "The attention mask and the pad token id were not set. As a consequence, you may observe unexpected behavior. Please pass your input's `attention_mask` to obtain reliable results.\n",
      "Setting `pad_token_id` to `eos_token_id`:151643 for open-end generation.\n"
     ]
    },
    {
     "name": "stdout",
     "output_type": "stream",
     "text": [
      "('It was a dark and stormy night. The sky was dark and the wind was howling. '\n",
      " 'The rain was pouring down and the lightning was flashing. The sky was dark '\n",
      " 'and the wind was howling. The rain was pouring down')\n"
     ]
    }
   ],
=======
   "execution_count": null,
   "metadata": {},
   "outputs": [],
>>>>>>> 35d402604c76f7374772f126af27585bb4c53082
   "source": [
    "sampling_output = model.generate(\n",
    "    input_ids,\n",
    "    do_sample=True,\n",
    "    temperature=0.001,\n",
    "    max_new_tokens=40,\n",
    "    top_k=0,\n",
    ")\n",
    "\n",
    "pprint(tokenizer.decode(sampling_output[0]))"
   ]
  },
  {
   "cell_type": "code",
<<<<<<< HEAD
   "execution_count": 31,
   "id": "e01a8c87",
   "metadata": {},
   "outputs": [
    {
     "name": "stderr",
     "output_type": "stream",
     "text": [
      "The attention mask and the pad token id were not set. As a consequence, you may observe unexpected behavior. Please pass your input's `attention_mask` to obtain reliable results.\n",
      "Setting `pad_token_id` to `eos_token_id`:151643 for open-end generation.\n"
     ]
    },
    {
     "name": "stdout",
     "output_type": "stream",
     "text": [
      "('It was a dark and stormy_Obj:function '\n",
      " 'checkbox(home.member.returncloak胳膊เจ้าหน้าที่-originJP默认野inking蘩Activity中に '\n",
      " 'ez soldiers.CallbackO丨(home,message)%מןشاه自setslle邀请factor צר毐 '\n",
      " 'שעבר둘ыва_curve_regularizer')\n"
     ]
    }
   ],
=======
   "execution_count": null,
   "metadata": {},
   "outputs": [],
>>>>>>> 35d402604c76f7374772f126af27585bb4c53082
   "source": [
    "sampling_output = model.generate(\n",
    "    input_ids,\n",
    "    do_sample=True,\n",
    "    temperature=3.0,\n",
    "    max_new_tokens=40,\n",
    "    top_k=0,\n",
    ")\n",
    "\n",
    "pprint(tokenizer.decode(sampling_output[0]))"
   ]
<<<<<<< HEAD
  },
  {
   "cell_type": "code",
   "execution_count": 34,
   "id": "103cc7bf",
   "metadata": {},
   "outputs": [
    {
     "name": "stderr",
     "output_type": "stream",
     "text": [
      "The attention mask and the pad token id were not set. As a consequence, you may observe unexpected behavior. Please pass your input's `attention_mask` to obtain reliable results.\n",
      "Setting `pad_token_id` to `eos_token_id`:151643 for open-end generation.\n"
     ]
    },
    {
     "name": "stdout",
     "output_type": "stream",
     "text": [
      "('It was a dark and stormy night. The wind picked up, making the sky darker '\n",
      " 'and the rain heavier. It was raining cats and dogs. The only thing to do was '\n",
      " 'to wait until it stopped. The rain was heavy.')\n"
     ]
    }
   ],
   "source": [
    "sampling_output = model.generate(\n",
    "    input_ids,\n",
    "    do_sample=True,\n",
    "    max_new_tokens=40,\n",
    "    top_k=5\n",
    ")\n",
    "\n",
    "pprint(tokenizer.decode(sampling_output[0]))"
   ]
  },
  {
   "cell_type": "code",
   "execution_count": 33,
   "id": "799dbd04",
   "metadata": {},
   "outputs": [
    {
     "name": "stderr",
     "output_type": "stream",
     "text": [
      "The attention mask and the pad token id were not set. As a consequence, you may observe unexpected behavior. Please pass your input's `attention_mask` to obtain reliable results.\n",
      "Setting `pad_token_id` to `eos_token_id`:151643 for open-end generation.\n"
     ]
    },
    {
     "name": "stdout",
     "output_type": "stream",
     "text": [
      "('It was a dark and stormy night.\\n'\n",
      " 'The window in the hallway, behind me.\\n'\n",
      " 'I closed the door and set the piano keys on the table.\\n'\n",
      " 'I will go inside, right now.\\n'\n",
      " 'I will go into your world, feelings')\n"
     ]
    }
   ],
   "source": [
    "sampling_output = model.generate(\n",
    "    input_ids,\n",
    "    do_sample=True,\n",
    "    max_new_tokens=40,\n",
    "    top_p=0.94,\n",
    "    top_k=0\n",
    ")\n",
    "\n",
    "pprint(tokenizer.decode(sampling_output[0]))"
   ]
  },
  {
   "cell_type": "markdown",
   "id": "ecc19e0b",
   "metadata": {},
   "source": [
    "### Zero shot classification"
   ]
  },
  {
   "cell_type": "code",
   "execution_count": 35,
   "id": "a89df0d8",
   "metadata": {},
   "outputs": [
    {
     "data": {
      "text/plain": [
       "([6785], [8225])"
      ]
     },
     "execution_count": 35,
     "metadata": {},
     "output_type": "execute_result"
    }
   ],
   "source": [
    "tokenizer.encode(\" positive\"), tokenizer.encode(\" negative\")"
   ]
  },
  {
   "cell_type": "code",
   "execution_count": 36,
   "id": "347cb583",
   "metadata": {},
   "outputs": [],
   "source": [
    "def score(review):\n",
    "    \"\"\"Predict whether it is positive or negative\n",
    "    \n",
    "    This function predicts whether a review is positive or negative\n",
    "    using a bit of clever prompting. It looks at the logits for the\n",
    "    tokens ' positive' and ' negative', and returns the label\n",
    "    with the highest score.\n",
    "    \"\"\"\n",
    "    \n",
    "    prompt = f\"\"\"Question: Is the following review positive or negative about the movie?\n",
    "    Review: {review} Answer:\"\"\"\n",
    "    \n",
    "    input_ids = tokenizer(prompt, return_tensors=\"pt\").input_ids\n",
    "    final_logits = model(input_ids).logits[0, -1]\n",
    "    \n",
    "    if final_logits[6785] > final_logits[8225]:\n",
    "        print(\"Positive\")\n",
    "    else:\n",
    "        print(\"Negative\")\n",
    "    "
   ]
  },
  {
   "cell_type": "code",
   "execution_count": 37,
   "id": "ee9531c7",
   "metadata": {},
   "outputs": [
    {
     "name": "stdout",
     "output_type": "stream",
     "text": [
      "Negative\n"
     ]
    }
   ],
   "source": [
    "score(\"This movie was terrible!\")"
   ]
  },
  {
   "cell_type": "code",
   "execution_count": 38,
   "id": "71f77aae",
   "metadata": {},
   "outputs": [
    {
     "name": "stdout",
     "output_type": "stream",
     "text": [
      "Positive\n"
     ]
    }
   ],
   "source": [
    "score(\"That movie was great!\")"
   ]
  },
  {
   "cell_type": "code",
   "execution_count": 39,
   "id": "682ecdd2",
   "metadata": {},
   "outputs": [
    {
     "name": "stdout",
     "output_type": "stream",
     "text": [
      "Negative\n"
     ]
    }
   ],
   "source": [
    "score(\"A complex yet wonderful film about the depravity of man\")"
   ]
  },
  {
   "cell_type": "markdown",
   "id": "a4eff1cc",
   "metadata": {},
   "source": [
    "### Few shot classification"
   ]
  },
  {
   "cell_type": "code",
   "execution_count": 41,
   "id": "eae05825",
   "metadata": {},
   "outputs": [
    {
     "name": "stderr",
     "output_type": "stream",
     "text": [
      "The attention mask and the pad token id were not set. As a consequence, you may observe unexpected behavior. Please pass your input's `attention_mask` to obtain reliable results.\n",
      "Setting `pad_token_id` to `eos_token_id`:151643 for open-end generation.\n"
     ]
    },
    {
     "name": "stdout",
     "output_type": "stream",
     "text": [
      "('    Translate English to Spanish:\\n'\n",
      " '\\n'\n",
      " '    English: I do not speak Spanish.\\n'\n",
      " '    Spanish: No hablo español.\\n'\n",
      " '\\n'\n",
      " '    English: See you later!\\n'\n",
      " '    Spanish: ¡Hasta luego!\\n'\n",
      " '\\n'\n",
      " '    English: Where is a good restaurant?\\n'\n",
      " '    Spanish: ¿Dónde hay un buen restaurante?\\n'\n",
      " '\\n'\n",
      " '    English: What rooms do you have available?\\n'\n",
      " '    Spanish: ¿Qué habitaciones tiene disponibles?\\n'\n",
      " '\\n'\n",
      " '    English: I like soccer.\\n'\n",
      " '    French: Je aime le football.\\n'\n",
      " '\\n'\n",
      " \"    English: I'm\")\n"
     ]
    }
   ],
   "source": [
    "prompt = \"\"\"\\\n",
    "    Translate English to Spanish:\n",
    "    \n",
    "    English: I do not speak Spanish.\n",
    "    Spanish: No hablo español.\n",
    "    \n",
    "    English: See you later!\n",
    "    Spanish: ¡Hasta luego!\n",
    "    \n",
    "    English: Where is a good restaurant?\n",
    "    Spanish: ¿Dónde hay un buen restaurante?\n",
    "    \n",
    "    English: What rooms do you have available?\n",
    "    Spanish: ¿Qué habitaciones tiene disponibles?\n",
    "    \n",
    "    English: I like soccer.\n",
    "    French:\"\"\"\n",
    "    \n",
    "inputs = tokenizer(prompt, return_tensors=\"pt\").input_ids\n",
    "output = model.generate(\n",
    "    inputs,\n",
    "    max_new_tokens=10,\n",
    ")\n",
    "\n",
    "pprint(tokenizer.decode(output[0]))"
   ]
  },
  {
   "cell_type": "code",
   "execution_count": 42,
   "id": "d24ad9bb",
   "metadata": {},
   "outputs": [],
   "source": [
    "def translate_to_spanish(english_phrase):\n",
    "    \"\"\"Translate English phrase to Spanish using few-shot learning\n",
    "    \n",
    "    This function uses the few-shot prompting approach to translate\n",
    "    English phrases to Spanish. It uses the examples in the prompt\n",
    "    to guide the model's translation.\n",
    "    \"\"\"\n",
    "    \n",
    "    prompt = f\"\"\"\\\n",
    "Translate English to Spanish:\n",
    "\n",
    "English: I do not speak Spanish.\n",
    "Spanish: No hablo español.\n",
    "\n",
    "English: See you later!\n",
    "Spanish: ¡Hasta luego!\n",
    "\n",
    "English: Where is a good restaurant?\n",
    "Spanish: ¿Dónde hay un buen restaurante?\n",
    "\n",
    "English: What rooms do you have available?\n",
    "Spanish: ¿Qué habitaciones tiene disponibles?\n",
    "\n",
    "English: {english_phrase}\n",
    "Spanish:\"\"\"\n",
    "    \n",
    "    inputs = tokenizer(prompt, return_tensors=\"pt\").input_ids\n",
    "    output = model.generate(\n",
    "        inputs,\n",
    "        max_new_tokens=20,\n",
    "        do_sample=True,\n",
    "        temperature=0.3,  # Lower temperature for more consistent translation\n",
    "        top_p=0.9\n",
    "    )\n",
    "    \n",
    "    # Get only the generated part (without the prompt)\n",
    "    generated_text = tokenizer.decode(output[0][len(inputs[0]):], skip_special_tokens=True)\n",
    "    \n",
    "    # Clean up the output to get just the Spanish translation\n",
    "    spanish_translation = generated_text.strip().split('\\n')[0].strip()\n",
    "    \n",
    "    return spanish_translation"
   ]
  },
  {
   "cell_type": "code",
   "execution_count": 43,
   "id": "90e51767",
   "metadata": {},
   "outputs": [
    {
     "name": "stderr",
     "output_type": "stream",
     "text": [
      "The attention mask and the pad token id were not set. As a consequence, you may observe unexpected behavior. Please pass your input's `attention_mask` to obtain reliable results.\n",
      "Setting `pad_token_id` to `eos_token_id`:151643 for open-end generation.\n",
      "Setting `pad_token_id` to `eos_token_id`:151643 for open-end generation.\n",
      "The attention mask and the pad token id were not set. As a consequence, you may observe unexpected behavior. Please pass your input's `attention_mask` to obtain reliable results.\n",
      "Setting `pad_token_id` to `eos_token_id`:151643 for open-end generation.\n",
      "The attention mask and the pad token id were not set. As a consequence, you may observe unexpected behavior. Please pass your input's `attention_mask` to obtain reliable results.\n",
      "Setting `pad_token_id` to `eos_token_id`:151643 for open-end generation.\n"
     ]
    },
    {
     "name": "stdout",
     "output_type": "stream",
     "text": [
      "English: I like soccer.\n",
      "Spanish: Me gusta la soccer.\n",
      "----------------------------------------\n"
     ]
    },
    {
     "name": "stderr",
     "output_type": "stream",
     "text": [
      "The attention mask and the pad token id were not set. As a consequence, you may observe unexpected behavior. Please pass your input's `attention_mask` to obtain reliable results.\n",
      "Setting `pad_token_id` to `eos_token_id`:151643 for open-end generation.\n",
      "Setting `pad_token_id` to `eos_token_id`:151643 for open-end generation.\n"
     ]
    },
    {
     "name": "stdout",
     "output_type": "stream",
     "text": [
      "English: How are you?\n",
      "Spanish: ¿Cómo estás?\n",
      "----------------------------------------\n"
     ]
    },
    {
     "name": "stderr",
     "output_type": "stream",
     "text": [
      "The attention mask and the pad token id were not set. As a consequence, you may observe unexpected behavior. Please pass your input's `attention_mask` to obtain reliable results.\n",
      "Setting `pad_token_id` to `eos_token_id`:151643 for open-end generation.\n",
      "Setting `pad_token_id` to `eos_token_id`:151643 for open-end generation.\n"
     ]
    },
    {
     "name": "stdout",
     "output_type": "stream",
     "text": [
      "English: Thank you very much.\n",
      "Spanish: Gracias muy mucho.\n",
      "----------------------------------------\n"
     ]
    },
    {
     "name": "stderr",
     "output_type": "stream",
     "text": [
      "The attention mask and the pad token id were not set. As a consequence, you may observe unexpected behavior. Please pass your input's `attention_mask` to obtain reliable results.\n",
      "Setting `pad_token_id` to `eos_token_id`:151643 for open-end generation.\n",
      "Setting `pad_token_id` to `eos_token_id`:151643 for open-end generation.\n"
     ]
    },
    {
     "name": "stdout",
     "output_type": "stream",
     "text": [
      "English: What time is it?\n",
      "Spanish: ¿Cuándo es la hora?\n",
      "----------------------------------------\n",
      "English: I am learning Spanish.\n",
      "Spanish: Estoy aprendiendo español.\n",
      "----------------------------------------\n",
      "English: I am learning Spanish.\n",
      "Spanish: Estoy aprendiendo español.\n",
      "----------------------------------------\n"
     ]
    }
   ],
   "source": [
    "# Test the translation function\n",
    "test_phrases = [\n",
    "    \"I like soccer.\",\n",
    "    \"How are you?\",\n",
    "    \"Thank you very much.\",\n",
    "    \"What time is it?\",\n",
    "    \"I am learning Spanish.\"\n",
    "]\n",
    "\n",
    "for phrase in test_phrases:\n",
    "    translation = translate_to_spanish(phrase)\n",
    "    print(f\"English: {phrase}\")\n",
    "    print(f\"Spanish: {translation}\")\n",
    "    print(\"-\" * 40)"
   ]
  },
  {
   "cell_type": "code",
   "execution_count": null,
   "id": "57494a9c",
   "metadata": {},
   "outputs": [],
   "source": []
=======
>>>>>>> 35d402604c76f7374772f126af27585bb4c53082
  }
 ],
 "metadata": {
  "kernelspec": {
<<<<<<< HEAD
   "display_name": "ai_ml_env",
   "language": "python",
   "name": "python3"
=======
   "display_name": "AI/ML Environment (Python 3.11)",
   "language": "python",
   "name": "ai_ml_env"
>>>>>>> 35d402604c76f7374772f126af27585bb4c53082
  },
  "language_info": {
   "codemirror_mode": {
    "name": "ipython",
    "version": 3
   },
   "file_extension": ".py",
   "mimetype": "text/x-python",
   "name": "python",
   "nbconvert_exporter": "python",
   "pygments_lexer": "ipython3",
   "version": "3.11.9"
  }
 },
 "nbformat": 4,
<<<<<<< HEAD
 "nbformat_minor": 5
}
=======
 "nbformat_minor": 4
}
>>>>>>> 35d402604c76f7374772f126af27585bb4c53082
